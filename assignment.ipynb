{
  "nbformat": 4,
  "nbformat_minor": 0,
  "metadata": {
    "colab": {
      "provenance": [],
      "authorship_tag": "ABX9TyPFv7zfGjyurm8KuRQu+GyJ",
      "include_colab_link": true
    },
    "kernelspec": {
      "name": "python3",
      "display_name": "Python 3"
    },
    "language_info": {
      "name": "python"
    }
  },
  "cells": [
    {
      "cell_type": "markdown",
      "metadata": {
        "id": "view-in-github",
        "colab_type": "text"
      },
      "source": [
        "<a href=\"https://colab.research.google.com/github/latiamgaonkar/hello-github-actions/blob/main/assignment.ipynb\" target=\"_parent\"><img src=\"https://colab.research.google.com/assets/colab-badge.svg\" alt=\"Open In Colab\"/></a>"
      ]
    },
    {
      "cell_type": "markdown",
      "source": [
        "**features of pythons**"
      ],
      "metadata": {
        "id": "iWGBu54j97C1"
      }
    },
    {
      "cell_type": "markdown",
      "source": [
        "1)Easy to learn and read\n",
        "2)Interpreted langauage\n",
        "3)Dynamically typed\n",
        "4)Object oriented\n",
        "5)Extend Standard library"
      ],
      "metadata": {
        "id": "n4iY7jKk-BqW"
      }
    },
    {
      "cell_type": "markdown",
      "source": [
        "**2)** **What are the data types in python?**"
      ],
      "metadata": {
        "id": "xePXcgJFUOLl"
      }
    },
    {
      "cell_type": "markdown",
      "source": [
        "**1.** **Numeric Type**"
      ],
      "metadata": {
        "id": "jcs57OXeU8hc"
      }
    },
    {
      "cell_type": "markdown",
      "source": [
        "1)int: Integer (whole numbers), e.g., 5, -10, 100"
      ],
      "metadata": {
        "id": "Ms81wPrlVVNr"
      }
    },
    {
      "cell_type": "markdown",
      "source": [
        "2)Float:floating point number(decimal numbers),e.g.,2.0,3.5,-6.7"
      ],
      "metadata": {
        "id": "WLD31NScViOt"
      }
    },
    {
      "cell_type": "markdown",
      "source": [
        "3)Complex:complex numbers(numbers with real and imaginary part),e.g.,3+5j,5-6j,"
      ],
      "metadata": {
        "id": "Yn7C5WVcVxrm"
      }
    },
    {
      "cell_type": "markdown",
      "source": [
        "**2.** **Text type**"
      ],
      "metadata": {
        "id": "x6ROTb9rWH5M"
      }
    },
    {
      "cell_type": "markdown",
      "source": [
        "1)String:string is a collection character or numbers which will written in single quotation or double quotation"
      ],
      "metadata": {
        "id": "q-HMBZuAWT7b"
      }
    },
    {
      "cell_type": "markdown",
      "source": [
        "e.g.,a = \"Hello World\""
      ],
      "metadata": {
        "id": "2r4ShQLHWqA_"
      }
    },
    {
      "cell_type": "markdown",
      "source": [
        "**3.** **Sequence type**"
      ],
      "metadata": {
        "id": "Vg7sBY9rWzfB"
      }
    },
    {
      "cell_type": "markdown",
      "source": [
        "1)list: Ordered, mutable collection of items (can contain different types), e.g., [1, 2, 3], [\"apple\", 3, 4.5]"
      ],
      "metadata": {
        "id": "0f4vuHAIXXLX"
      }
    },
    {
      "cell_type": "markdown",
      "source": [
        "2)tuple: Ordered, immutable collection of items, e.g., (1, 2, 3), (\"a\", \"b\", \"c\")"
      ],
      "metadata": {
        "id": "DpKHDwoRXiBm"
      }
    },
    {
      "cell_type": "markdown",
      "source": [
        "3)range: Represents a sequence of numbers, used mostly in loops, e.g., range(5) produces 0, 1, 2, 3, 4"
      ],
      "metadata": {
        "id": "zAwCSGv9Xn0C"
      }
    },
    {
      "cell_type": "markdown",
      "source": [
        "**4.** **Mapping Type**"
      ],
      "metadata": {
        "id": "xpZUyslcYF57"
      }
    },
    {
      "cell_type": "markdown",
      "source": [
        "1)dict: Dictionary (key-value pairs), e.g., {\"name\": \"Alice\", \"age\": 25}"
      ],
      "metadata": {
        "id": "_5cqKlTio0e8"
      }
    },
    {
      "cell_type": "markdown",
      "source": [
        "**5.** **Set Types**"
      ],
      "metadata": {
        "id": "DYLWJrNMpAsq"
      }
    },
    {
      "cell_type": "markdown",
      "source": [
        "1)set: Unordered collection of unique items, e.g., {1, 2, 3}, {\"apple\", \"banana\"}"
      ],
      "metadata": {
        "id": "yJHJMEoWpKB-"
      }
    },
    {
      "cell_type": "markdown",
      "source": [
        "**6** **Boolean Type**"
      ],
      "metadata": {
        "id": "cegX-r-NpcyL"
      }
    },
    {
      "cell_type": "markdown",
      "source": [
        "1)bool: Boolean (True or False), e.g., True, False"
      ],
      "metadata": {
        "id": "wuAbJgVApn8V"
      }
    },
    {
      "cell_type": "markdown",
      "source": [
        "**7.** **Binary Types**"
      ],
      "metadata": {
        "id": "zraEBI4tp3NW"
      }
    },
    {
      "cell_type": "markdown",
      "source": [
        "**8.** **None Type**"
      ],
      "metadata": {
        "id": "8qfm1FcHp-h3"
      }
    },
    {
      "cell_type": "markdown",
      "source": [
        "1)NoneType: Represents the absence of a value or a null value, e.g., None"
      ],
      "metadata": {
        "id": "6bdtfQwWqLej"
      }
    },
    {
      "cell_type": "markdown",
      "source": [
        "**3)** **What are the local variables and global variables in python?**"
      ],
      "metadata": {
        "id": "LzoI-niAwrnD"
      }
    },
    {
      "cell_type": "markdown",
      "source": [
        "local variables are defined within a function and are only accessible within that function, while global variables are defined outside of any function and can be accessed from anywhere in the program."
      ],
      "metadata": {
        "id": "7HR4AW4I0ajk"
      }
    },
    {
      "cell_type": "markdown",
      "source": [
        "**Local variables**"
      ],
      "metadata": {
        "id": "Kfi9kF-Q0jyE"
      }
    },
    {
      "cell_type": "markdown",
      "source": [
        "Defined inside a function."
      ],
      "metadata": {
        "id": "lAECAMTp0s2K"
      }
    },
    {
      "cell_type": "markdown",
      "source": [
        "Exist only during the function's execution."
      ],
      "metadata": {
        "id": "2k36tl2r004w"
      }
    },
    {
      "cell_type": "markdown",
      "source": [
        "Cannot be accessed from outside the function."
      ],
      "metadata": {
        "id": "3Jyhxh8c04iU"
      }
    },
    {
      "cell_type": "code",
      "source": [
        "def Hello():\n",
        "    s = \"pune is city\"\n",
        "    print(\"inside function\",s)\n",
        "Hello()\n"
      ],
      "metadata": {
        "colab": {
          "base_uri": "https://localhost:8080/"
        },
        "id": "R-ZY4ibueljg",
        "outputId": "50cfb673-f592-4456-ab91-58e3a692a18a"
      },
      "execution_count": null,
      "outputs": [
        {
          "output_type": "stream",
          "name": "stdout",
          "text": [
            "inside function pune is city\n"
          ]
        }
      ]
    },
    {
      "cell_type": "markdown",
      "source": [
        "**Global variable**"
      ],
      "metadata": {
        "id": "VqTrBXod1OTe"
      }
    },
    {
      "cell_type": "markdown",
      "source": [
        "It is the variable which is created outside the functions and it is accesible outside the function.\n",
        "\n"
      ],
      "metadata": {
        "id": "qX4Yn0FK1SvU"
      }
    },
    {
      "cell_type": "code",
      "source": [
        "x = 100\n",
        "def myfunction():\n",
        "  print(\"outside function:\",x)\n",
        "myfunction()"
      ],
      "metadata": {
        "colab": {
          "base_uri": "https://localhost:8080/"
        },
        "id": "u4ON8b971qZD",
        "outputId": "c63837a1-5b55-4a45-90b3-aae564e1ab70"
      },
      "execution_count": null,
      "outputs": [
        {
          "output_type": "stream",
          "name": "stdout",
          "text": [
            "outside function: 100\n"
          ]
        }
      ]
    },
    {
      "cell_type": "markdown",
      "source": [
        "**4)** **How do you write commentd in python? and why comments are important?**"
      ],
      "metadata": {
        "id": "IlXMg0QM27cc"
      }
    },
    {
      "cell_type": "markdown",
      "source": [
        "comments are the line in the programs which is ignored by the interpreter during execution of program."
      ],
      "metadata": {
        "id": "Txjtz7v84hCW"
      }
    },
    {
      "cell_type": "markdown",
      "source": [
        "Comments enhance the readability of the code."
      ],
      "metadata": {
        "id": "5W3K3_594tjB"
      }
    },
    {
      "cell_type": "markdown",
      "source": [
        "Comment can be used to identify functionality or structure the code-base."
      ],
      "metadata": {
        "id": "xMQlGPMC476B"
      }
    },
    {
      "cell_type": "markdown",
      "source": [
        "Comments can be used to prevent executing any specific part of your code, while making changes or testing."
      ],
      "metadata": {
        "id": "w8PKhMo85McY"
      }
    },
    {
      "cell_type": "code",
      "source": [
        "# I am single line comment\n",
        "\n"
      ],
      "metadata": {
        "id": "QYb8iR5v5WAr"
      },
      "execution_count": null,
      "outputs": []
    },
    {
      "cell_type": "markdown",
      "source": [
        "**5)** **How to comment on multiple lines in python?**"
      ],
      "metadata": {
        "id": "4N6_7vJe5kR4"
      }
    },
    {
      "cell_type": "markdown",
      "source": [
        "comment on multiple lines in python using \"\"\"- - -- - - -\"\"\""
      ],
      "metadata": {
        "id": "Hv0Nqsar6CmZ"
      }
    },
    {
      "cell_type": "code",
      "source": [
        "'''\n",
        "This is a multi-line comment\n",
        "that spans multiple lines.\n",
        "'''"
      ],
      "metadata": {
        "id": "2yqkNgoB6Tzf"
      },
      "execution_count": null,
      "outputs": []
    },
    {
      "cell_type": "markdown",
      "source": [
        "**6.** **what do you mean by python literals?**"
      ],
      "metadata": {
        "id": "y7V9lh3S6VEd"
      }
    },
    {
      "cell_type": "markdown",
      "source": [
        "literals are the constant values which is asign to the variable."
      ],
      "metadata": {
        "id": "Ekq-3IUv_e14"
      }
    },
    {
      "cell_type": "markdown",
      "source": [
        "**Numeric literals**"
      ],
      "metadata": {
        "id": "a5vSBk4f_qIP"
      }
    },
    {
      "cell_type": "markdown",
      "source": [
        "1)integer literal"
      ],
      "metadata": {
        "id": "syVc54mY_yDa"
      }
    },
    {
      "cell_type": "markdown",
      "source": [
        "2)float literal"
      ],
      "metadata": {
        "id": "Dtv7aV8BANyc"
      }
    },
    {
      "cell_type": "markdown",
      "source": [
        "3)complex literal"
      ],
      "metadata": {
        "id": "rmySb28-ARpL"
      }
    },
    {
      "cell_type": "markdown",
      "source": [
        "4)boolean literal"
      ],
      "metadata": {
        "id": "VYZwHtQhAbdI"
      }
    },
    {
      "cell_type": "markdown",
      "source": [
        "5)special none literal"
      ],
      "metadata": {
        "id": "21-oVpzpAeQT"
      }
    },
    {
      "cell_type": "code",
      "source": [
        "#integer literal\n",
        "integer_literal = 100\n",
        "float_literal = 3.14\n",
        "complex_literal = 2+3j\n",
        "boolean_literal = True\n",
        "print(\"integer literal: \",integer_literal)\n",
        "print(\"float literal: \",float_literal)\n",
        "print(\"complex literal: \",complex_literal)"
      ],
      "metadata": {
        "colab": {
          "base_uri": "https://localhost:8080/"
        },
        "id": "YirTsvYaAjC7",
        "outputId": "9eb6d189-a8f0-408a-ba92-dbbcf8159c5e"
      },
      "execution_count": null,
      "outputs": [
        {
          "output_type": "stream",
          "name": "stdout",
          "text": [
            "integer literal:  100\n",
            "float literal:  3.14\n",
            "complex literal:  (2+3j)\n"
          ]
        }
      ]
    },
    {
      "cell_type": "markdown",
      "source": [
        "**2.** **string literals**"
      ],
      "metadata": {
        "id": "oFfQMdPEB5wX"
      }
    },
    {
      "cell_type": "code",
      "source": [
        "single_quote_string = 'Hello World!'\n",
        "double_quote_string = \"python is fun!\"\n",
        "triple_quote_string = \"\"\"This is multiline string in python\"\"\"\n",
        "print(\"single quote string\",single_quote_string)\n",
        "print(\"double quote string\",double_quote_string)\n",
        "print(\"triple quote string\",triple_quote_string)\n",
        "\n"
      ],
      "metadata": {
        "colab": {
          "base_uri": "https://localhost:8080/"
        },
        "id": "Z07b6gY6DAYP",
        "outputId": "630b576b-740e-45dd-a683-1ffb215dea73"
      },
      "execution_count": null,
      "outputs": [
        {
          "output_type": "stream",
          "name": "stdout",
          "text": [
            "single quote string Hello World!\n",
            "double quote string python is fun!\n",
            "triple quote string This is multiline string in python\n"
          ]
        }
      ]
    },
    {
      "cell_type": "markdown",
      "source": [
        "**collection literals**"
      ],
      "metadata": {
        "id": "28o5r11MEIRF"
      }
    },
    {
      "cell_type": "markdown",
      "source": [
        "**1.** **List literal:**"
      ],
      "metadata": {
        "id": "GsNc3PNWEMR4"
      }
    },
    {
      "cell_type": "markdown",
      "source": [
        "collection of items enclosed in square bracket"
      ],
      "metadata": {
        "id": "d6i2ybW4Ej2s"
      }
    },
    {
      "cell_type": "code",
      "source": [
        "a = [1,3,4,5,77]\n",
        "print(a)"
      ],
      "metadata": {
        "colab": {
          "base_uri": "https://localhost:8080/"
        },
        "id": "bO_-IY6RFuw-",
        "outputId": "a46b44f8-0d80-4f4f-fb0b-2a7dc050b1bb"
      },
      "execution_count": null,
      "outputs": [
        {
          "output_type": "stream",
          "name": "stdout",
          "text": [
            "[1, 3, 4, 5, 77]\n"
          ]
        }
      ]
    },
    {
      "cell_type": "markdown",
      "source": [
        "**2.** **tuple literal:**"
      ],
      "metadata": {
        "id": "0E3X-wadFZa8"
      }
    },
    {
      "cell_type": "markdown",
      "source": [
        "An immutable items enclosed in parenthesis."
      ],
      "metadata": {
        "id": "yPPJdfBFFfyV"
      }
    },
    {
      "cell_type": "code",
      "source": [
        "x = (10,20,30,40)\n",
        "print(x)"
      ],
      "metadata": {
        "colab": {
          "base_uri": "https://localhost:8080/"
        },
        "id": "8kUSDIEXF2x9",
        "outputId": "f7fbfff4-7dd3-4d56-a459-1d901fb329fc"
      },
      "execution_count": null,
      "outputs": [
        {
          "output_type": "stream",
          "name": "stdout",
          "text": [
            "(10, 20, 30, 40)\n"
          ]
        }
      ]
    },
    {
      "cell_type": "markdown",
      "source": [
        "**3.** **set literal**"
      ],
      "metadata": {
        "id": "deNk7yWLGuPs"
      }
    },
    {
      "cell_type": "markdown",
      "source": [
        "A collection of unique items enclosed in curly braces."
      ],
      "metadata": {
        "id": "qQU4n8AeGzuS"
      }
    },
    {
      "cell_type": "code",
      "source": [
        "f = {1,2,2,3,4,4,5,5,6,6,7,7,7}\n",
        "print(f)"
      ],
      "metadata": {
        "colab": {
          "base_uri": "https://localhost:8080/"
        },
        "id": "VEFxpBUhHQUH",
        "outputId": "9ab236a7-c0d6-49ac-9670-a63859d44cd2"
      },
      "execution_count": null,
      "outputs": [
        {
          "output_type": "stream",
          "name": "stdout",
          "text": [
            "{1, 2, 3, 4, 5, 6, 7}\n"
          ]
        }
      ]
    },
    {
      "cell_type": "markdown",
      "source": [
        "**4.** **dictionary literal**"
      ],
      "metadata": {
        "id": "wtTF1i5mHagD"
      }
    },
    {
      "cell_type": "markdown",
      "source": [
        "A collection of key-value pairs enclosed in curly braces."
      ],
      "metadata": {
        "id": "1tjOPim2HmhJ"
      }
    },
    {
      "cell_type": "code",
      "source": [
        "b = {1:100,2:300,4:500,6:900}\n",
        "print(b)"
      ],
      "metadata": {
        "colab": {
          "base_uri": "https://localhost:8080/"
        },
        "id": "zhlgQJp1HtlW",
        "outputId": "12dc7d39-a999-4405-df7f-fe725afcc9df"
      },
      "execution_count": null,
      "outputs": [
        {
          "output_type": "stream",
          "name": "stdout",
          "text": [
            "{1: 100, 2: 300, 4: 500, 6: 900}\n"
          ]
        }
      ]
    },
    {
      "cell_type": "markdown",
      "source": [
        "**7)** **what are different ways to assign value to variables?**"
      ],
      "metadata": {
        "id": "kMq0aPMDIOG0"
      }
    },
    {
      "cell_type": "markdown",
      "source": [
        "There are several ways to assign values to variables in programming."
      ],
      "metadata": {
        "id": "DVZ6YsqnLgXW"
      }
    },
    {
      "cell_type": "markdown",
      "source": [
        "**1.** **Direct Assignment**"
      ],
      "metadata": {
        "id": "mJP8QHtQLiuU"
      }
    },
    {
      "cell_type": "markdown",
      "source": [
        "This is the most straightforward way to assign a value to a variable. You just use the assignment operator (=)."
      ],
      "metadata": {
        "id": "FKza0f-pLsXe"
      }
    },
    {
      "cell_type": "code",
      "source": [
        "x = 10\n",
        "name = \"Alice\"\n",
        "print(x,name)"
      ],
      "metadata": {
        "colab": {
          "base_uri": "https://localhost:8080/"
        },
        "id": "5PsliyWLLw0A",
        "outputId": "6d5e2cbb-f5c6-456d-8c9a-d9077d5149b6"
      },
      "execution_count": null,
      "outputs": [
        {
          "output_type": "stream",
          "name": "stdout",
          "text": [
            "10 Alice\n"
          ]
        }
      ]
    },
    {
      "cell_type": "markdown",
      "source": [
        "**2.** **Multiple Assignment**"
      ],
      "metadata": {
        "id": "S3q8iDQUMC2k"
      }
    },
    {
      "cell_type": "markdown",
      "source": [
        "we can assign values to multiple variables in a single line."
      ],
      "metadata": {
        "id": "MIWG4LNOMKLc"
      }
    },
    {
      "cell_type": "code",
      "source": [
        "x, y, z = 1, 2, 3\n",
        "print(x,y,z)"
      ],
      "metadata": {
        "colab": {
          "base_uri": "https://localhost:8080/"
        },
        "id": "FzE6kdBHMSCH",
        "outputId": "21b035d7-996d-4a6b-8b9a-1b5604eb9776"
      },
      "execution_count": null,
      "outputs": [
        {
          "output_type": "stream",
          "name": "stdout",
          "text": [
            "1 2 3\n"
          ]
        }
      ]
    },
    {
      "cell_type": "markdown",
      "source": [
        "**3.** **Unpacking**"
      ],
      "metadata": {
        "id": "jCzKmOIxNB3t"
      }
    },
    {
      "cell_type": "markdown",
      "source": [
        "In languages that support unpacking, you can assign values from iterable objects (like lists or tuples) directly to variables.\n"
      ],
      "metadata": {
        "id": "ekFT3Q31NGl_"
      }
    },
    {
      "cell_type": "code",
      "source": [
        "fruits = [\"apple\", \"banana\", \"cherry\"]\n",
        "x, y, z = fruits\n",
        "print(fruits)\n",
        "print(x,y,z)"
      ],
      "metadata": {
        "colab": {
          "base_uri": "https://localhost:8080/"
        },
        "id": "f_jJSHoQNQxM",
        "outputId": "ce4afdbd-d28f-4ee3-9b0c-2fc6e329a0aa"
      },
      "execution_count": null,
      "outputs": [
        {
          "output_type": "stream",
          "name": "stdout",
          "text": [
            "['apple', 'banana', 'cherry']\n",
            "apple banana cherry\n"
          ]
        }
      ]
    },
    {
      "cell_type": "markdown",
      "source": [
        "**4.** **Assignment via Expressions**"
      ],
      "metadata": {
        "id": "oF9ZVJsKNt4W"
      }
    },
    {
      "cell_type": "markdown",
      "source": [
        "Assign the result of an expression to a variable.\n"
      ],
      "metadata": {
        "id": "IDtzpYVDNyii"
      }
    },
    {
      "cell_type": "code",
      "source": [
        "x = 5+10\n",
        "print(x)"
      ],
      "metadata": {
        "colab": {
          "base_uri": "https://localhost:8080/"
        },
        "id": "Q3gX_FAzN7BS",
        "outputId": "002dddf3-5ad9-42ba-e283-c8d5dbdd2a27"
      },
      "execution_count": null,
      "outputs": [
        {
          "output_type": "stream",
          "name": "stdout",
          "text": [
            "15\n"
          ]
        }
      ]
    },
    {
      "cell_type": "markdown",
      "source": [
        "**8)** **What are the escape characters in python?**"
      ],
      "metadata": {
        "id": "y-gdKj5cR1ck"
      }
    },
    {
      "cell_type": "markdown",
      "source": [
        "n Python, escape characters are special characters that are used to represent certain whitespace characters or characters that are difficult to type directly. They are typically preceded by a backslash (\\). Here are the common escape characters in Python:"
      ],
      "metadata": {
        "id": "TtNHzoN3SL-h"
      }
    },
    {
      "cell_type": "markdown",
      "source": [
        "1)\\n – Newline: Moves the cursor to the next line."
      ],
      "metadata": {
        "id": "ktWxOSJASNba"
      }
    },
    {
      "cell_type": "markdown",
      "source": [
        "2)\\t – Horizontal Tab: Adds a tab space."
      ],
      "metadata": {
        "id": "OZc4dswHSSen"
      }
    },
    {
      "cell_type": "markdown",
      "source": [
        "3)\\r – Carriage Return: Moves the cursor to the beginning of the line."
      ],
      "metadata": {
        "id": "IvcfsuDzSYaV"
      }
    },
    {
      "cell_type": "markdown",
      "source": [
        "4)\\b – Backspace: Moves the cursor one character back."
      ],
      "metadata": {
        "id": "R54bj7W1ScmJ"
      }
    },
    {
      "cell_type": "markdown",
      "source": [
        "5)\\f – Form Feed: Moves the cursor to the beginning of the next page."
      ],
      "metadata": {
        "id": "2LWkNnGRShm9"
      }
    },
    {
      "cell_type": "markdown",
      "source": [
        "6)\\v – Vertical Tab: Moves the cursor down to the next vertical tab stop."
      ],
      "metadata": {
        "id": "J_TdNX9uSrRo"
      }
    },
    {
      "cell_type": "markdown",
      "source": [
        "7)\\\\ – Backslash: Inserts a literal backslash (\\)."
      ],
      "metadata": {
        "id": "cQkUxIfySvey"
      }
    },
    {
      "cell_type": "markdown",
      "source": [
        "8)\\'- Single Quote: Inserts a single quote ('), useful in single-quoted strings."
      ],
      "metadata": {
        "id": "j69pm5bySzE9"
      }
    },
    {
      "cell_type": "markdown",
      "source": [
        "9)\\\" – Double Quote: Inserts a double quote (\"), useful in double-quoted strings."
      ],
      "metadata": {
        "id": "HpB_QleiS37L"
      }
    },
    {
      "cell_type": "markdown",
      "source": [
        "**9)** **What are the different types of string formatting?Explain with example**"
      ],
      "metadata": {
        "id": "T1XelEcbTRnD"
      }
    },
    {
      "cell_type": "markdown",
      "source": [
        "1) Old-style String Formatting (% operator)"
      ],
      "metadata": {
        "id": "kc1bPN3GUIn1"
      }
    },
    {
      "cell_type": "code",
      "source": [
        "name = \"Alice\"\n",
        "age = 30\n",
        "formatted_string = \"Name: %s, Age: %d\" % (name, age)\n",
        "print(formatted_string)"
      ],
      "metadata": {
        "colab": {
          "base_uri": "https://localhost:8080/"
        },
        "id": "SSnECvE-USMn",
        "outputId": "0b9ae92d-fc01-464f-8339-e9d97f6b85a2"
      },
      "execution_count": null,
      "outputs": [
        {
          "output_type": "stream",
          "name": "stdout",
          "text": [
            "Name: Alice, Age: 30\n"
          ]
        }
      ]
    },
    {
      "cell_type": "markdown",
      "source": [
        "2)str.format() Method"
      ],
      "metadata": {
        "id": "AqKi5PkPUVzp"
      }
    },
    {
      "cell_type": "code",
      "source": [
        "name = \"Alice\"\n",
        "age = 30\n",
        "formatted_string = \"Name: {}, Age: {}\".format(name, age)\n",
        "print(formatted_string)"
      ],
      "metadata": {
        "colab": {
          "base_uri": "https://localhost:8080/"
        },
        "id": "juB9NRz5UcNe",
        "outputId": "9d798c05-c30c-48ef-be90-d7e8aa887cde"
      },
      "execution_count": null,
      "outputs": [
        {
          "output_type": "stream",
          "name": "stdout",
          "text": [
            "Name: Alice, Age: 30\n"
          ]
        }
      ]
    },
    {
      "cell_type": "markdown",
      "source": [
        "3)f-Strings (Literal String Interpolation)"
      ],
      "metadata": {
        "id": "bHQOKS23UwQd"
      }
    },
    {
      "cell_type": "markdown",
      "source": [
        "Introduced in Python 3.6, f-strings provide a more concise and readable way to format strings. You prefix the string with f or F, and variables or expressions inside curly braces {} are evaluated at runtime."
      ],
      "metadata": {
        "id": "vSHvUyYDVCzu"
      }
    },
    {
      "cell_type": "code",
      "source": [
        "formatted_string = f\"Next year, {name} will be {age + 1} years old.\"\n",
        "print(formatted_string)"
      ],
      "metadata": {
        "colab": {
          "base_uri": "https://localhost:8080/"
        },
        "id": "-QJD8-iVVEyV",
        "outputId": "e5b5e7f5-6308-4d61-a8ef-0059b055e5b1"
      },
      "execution_count": null,
      "outputs": [
        {
          "output_type": "stream",
          "name": "stdout",
          "text": [
            "Next year, Alice will be 31 years old.\n"
          ]
        }
      ]
    },
    {
      "cell_type": "markdown",
      "source": [
        "**10)** **write a program to print every character of string entered by the user in a new line using a loop**"
      ],
      "metadata": {
        "id": "8oTVtySIV2JZ"
      }
    },
    {
      "cell_type": "code",
      "source": [
        "str_1 = input(\"Enter a string: \")\n",
        "for char in str_1:\n",
        "    print(char)"
      ],
      "metadata": {
        "colab": {
          "base_uri": "https://localhost:8080/"
        },
        "id": "QRy9tbBRWcjJ",
        "outputId": "b3bf4f49-2419-4f20-9cf7-61eedb2d4bc9"
      },
      "execution_count": null,
      "outputs": [
        {
          "output_type": "stream",
          "name": "stdout",
          "text": [
            "Enter a string: Hello\n",
            "H\n",
            "e\n",
            "l\n",
            "l\n",
            "o\n"
          ]
        }
      ]
    },
    {
      "cell_type": "markdown",
      "source": [
        "**11)** **write the python program to find length of string \"machine learning\" with and without using length function**"
      ],
      "metadata": {
        "id": "s3vp0XtLXmaa"
      }
    },
    {
      "cell_type": "code",
      "source": [
        "with_length = \"machine learning\"\n",
        "print(len(with_length))"
      ],
      "metadata": {
        "colab": {
          "base_uri": "https://localhost:8080/"
        },
        "id": "CHwL0WAjX8Y9",
        "outputId": "08300990-1dc6-4378-8592-d6624dfc3c86"
      },
      "execution_count": null,
      "outputs": [
        {
          "output_type": "stream",
          "name": "stdout",
          "text": [
            "16\n"
          ]
        }
      ]
    },
    {
      "cell_type": "code",
      "source": [
        "s = \"machine learning\"\n",
        "l = 0\n",
        "for char in s:\n",
        "    l += 1\n",
        "print(l)\n"
      ],
      "metadata": {
        "colab": {
          "base_uri": "https://localhost:8080/"
        },
        "id": "4Q3YIqiYYNVG",
        "outputId": "b01d4d7b-6fdd-4532-a21d-d69960a2b27e"
      },
      "execution_count": null,
      "outputs": [
        {
          "output_type": "stream",
          "name": "stdout",
          "text": [
            "16\n"
          ]
        }
      ]
    },
    {
      "cell_type": "markdown",
      "source": [
        "**12)** **Write a python program to check if the word 'orange'is present in the \"this is orange juice\".**"
      ],
      "metadata": {
        "id": "NibnjV86aBNw"
      }
    },
    {
      "cell_type": "code",
      "source": [
        "sentence = \"this is orange juice\"\n",
        "\n",
        "\n",
        "if 'orange' in sentence:\n",
        "    print(\"The word 'orange' is present in the sentence.\")\n",
        "else:\n",
        "    print(\"The word 'orange' is not present in the sentence.\")"
      ],
      "metadata": {
        "colab": {
          "base_uri": "https://localhost:8080/"
        },
        "id": "WR8-dH62ahHa",
        "outputId": "f711fce4-49b2-47fe-c8f3-903a1bc6bb68"
      },
      "execution_count": null,
      "outputs": [
        {
          "output_type": "stream",
          "name": "stdout",
          "text": [
            "The word 'orange' is present in the sentence.\n"
          ]
        }
      ]
    },
    {
      "cell_type": "markdown",
      "source": [
        "**13)** **write a python program to find the number of vowels,consonants,digits, and white space character in string.**\n",
        "\n"
      ],
      "metadata": {
        "id": "akkd79EAazQH"
      }
    },
    {
      "cell_type": "code",
      "source": [
        "def count_characters(s):\n",
        "    vowels = \"aeiouAEIOU\"\n",
        "    digits = \"0123456789\"\n",
        "\n",
        "    vowel_count = 0\n",
        "    consonant_count = 0\n",
        "    digit_count = 0\n",
        "    space_count = 0\n",
        "\n",
        "\n",
        "    for char in s:\n",
        "        if char in vowels:\n",
        "            vowel_count += 1\n",
        "        elif char.isalpha():\n",
        "            consonant_count += 1\n",
        "        elif char.isdigit():\n",
        "            digit_count += 1\n",
        "        elif char.isspace():\n",
        "            space_count += 1\n",
        "\n",
        "\n",
        "    print(\"Vowels:\", vowel_count)\n",
        "    print(\"Consonants:\", consonant_count)\n",
        "    print(\"Digits:\", digit_count)\n",
        "    print(\"White spaces:\", space_count)\n",
        "\n",
        "\n",
        "input_string = \"Hello World! 123\"\n",
        "count_characters(input_string)"
      ],
      "metadata": {
        "colab": {
          "base_uri": "https://localhost:8080/"
        },
        "id": "LQzJbVDebQNG",
        "outputId": "03fceaf6-1fec-4d13-ff87-7dbcaa3776d3"
      },
      "execution_count": null,
      "outputs": [
        {
          "output_type": "stream",
          "name": "stdout",
          "text": [
            "Vowels: 3\n",
            "Consonants: 7\n",
            "Digits: 3\n",
            "White spaces: 2\n"
          ]
        }
      ]
    },
    {
      "cell_type": "markdown",
      "source": [
        "**14)** **write a python program to count Uppercase,Lowercase,special character and numeric values in given string.**"
      ],
      "metadata": {
        "id": "aTrBRTjSeHBU"
      }
    },
    {
      "cell_type": "code",
      "source": [
        "str = \"Hell0 W0rld ! 123 * #\"\n",
        "print(\"Original strings : \",str)\n",
        "upr, lwr, num, spl = 0, 0, 0, 0\n",
        "for i in range(len(str)):\n",
        "\tif str[i] >= 'A' and str[i] <= 'Z':\n",
        "\t\tupr += 1\n",
        "\telif str[i] >= 'a' and str[i] <= 'z':\n",
        "\t\tlwr += 1\n",
        "\telif str[i] >= '0' and str[i] <= '9':\n",
        "\t\tnum += 1\n",
        "\telse:\n",
        "\t\tspl += 1\n",
        "\n",
        "print(\"UpperCase : \",upr)\n",
        "print(\"LowerCase : \",lwr)\n",
        "print(\"NumberCase : \",num)\n",
        "print(\"SpecialCase : \",spl)"
      ],
      "metadata": {
        "colab": {
          "base_uri": "https://localhost:8080/"
        },
        "id": "pI8W6sR_eg55",
        "outputId": "3977bba7-9aea-481b-fa9b-ef88f6d32eae"
      },
      "execution_count": null,
      "outputs": [
        {
          "output_type": "stream",
          "name": "stdout",
          "text": [
            "Original strings :  Hell0 W0rld ! 123 * #\n",
            "UpperCase :  2\n",
            "LowerCase :  6\n",
            "NumberCase :  5\n",
            "SpecialCase :  8\n"
          ]
        }
      ]
    },
    {
      "cell_type": "markdown",
      "source": [
        "**15)** **write a python program to make a new string with all consonants deleted from the string \"Hello,have a good day\".**"
      ],
      "metadata": {
        "id": "bM_hYdakgGsk"
      }
    },
    {
      "cell_type": "code",
      "source": [
        "a = ['a','e','i','o','u','A','E','I','O','U',' ']\n",
        "b = \"Hello, have a good day\"\n",
        "for i in b:\n",
        "  if i not in a:\n",
        "    b = b[:b.index(i)]+b[b.index(i)+1:]\n",
        "print(b)"
      ],
      "metadata": {
        "colab": {
          "base_uri": "https://localhost:8080/"
        },
        "id": "GsGRrdG1gipL",
        "outputId": "c935d44e-5398-43c2-8830-1be7b9a4a336"
      },
      "execution_count": null,
      "outputs": [
        {
          "output_type": "stream",
          "name": "stdout",
          "text": [
            "eo ae a oo a\n"
          ]
        }
      ]
    },
    {
      "cell_type": "markdown",
      "source": [
        "**16)** **write a python program to remove the nth index character from a non-empty string**"
      ],
      "metadata": {
        "id": "uyjDHRH1hGTk"
      }
    },
    {
      "cell_type": "code",
      "source": [
        "my_string = \"Hi there how are you\"\n",
        "\n",
        "print(\"The string is :\")\n",
        "print(my_string)\n",
        "index_removed = 2\n",
        "\n",
        "changed_string = ''\n",
        "\n",
        "for char in range(0, len(my_string)):\n",
        "   if(char != index_removed):\n",
        "      changed_string += my_string[char]\n",
        "\n",
        "print(\"The string after removing \", index_removed, \"nd character is : \")\n",
        "print(changed_string)"
      ],
      "metadata": {
        "colab": {
          "base_uri": "https://localhost:8080/"
        },
        "id": "eA3t46vGha31",
        "outputId": "98933203-8bb6-4680-e199-7eac70f355d0"
      },
      "execution_count": null,
      "outputs": [
        {
          "output_type": "stream",
          "name": "stdout",
          "text": [
            "The string is :\n",
            "Hi there how are you\n",
            "The string after removing  2 nd character is : \n",
            "Hithere how are you\n"
          ]
        }
      ]
    },
    {
      "cell_type": "markdown",
      "source": [
        "**17)** **write a python program to change a given string into new string where the first and last characters have been exchanged.**"
      ],
      "metadata": {
        "id": "ydS0M9U7jJDc"
      }
    },
    {
      "cell_type": "code",
      "source": [
        "v = \"abcdefghi\"\n",
        "v[-1:]+v[1:-1]+v[:1]"
      ],
      "metadata": {
        "colab": {
          "base_uri": "https://localhost:8080/",
          "height": 35
        },
        "id": "2nE61b-hm1sy",
        "outputId": "1d56df86-f12e-422b-ae47-1fd34471f1e4"
      },
      "execution_count": null,
      "outputs": [
        {
          "output_type": "execute_result",
          "data": {
            "text/plain": [
              "'ibcdefgha'"
            ],
            "application/vnd.google.colaboratory.intrinsic+json": {
              "type": "string"
            }
          },
          "metadata": {},
          "execution_count": 39
        }
      ]
    },
    {
      "cell_type": "markdown",
      "source": [
        "**18)** **write a python program  to count the occurence of a given character in sentance**"
      ],
      "metadata": {
        "id": "qDkv-R2XoI0f"
      }
    },
    {
      "cell_type": "code",
      "source": [
        "text = \"hello world\"\n",
        "character_to_count = 'o'\n",
        "count = text.count(character_to_count)\n",
        "print(count)"
      ],
      "metadata": {
        "colab": {
          "base_uri": "https://localhost:8080/"
        },
        "id": "1HpuLwUzopbI",
        "outputId": "c0bb3a32-623a-433e-84fb-9e81545b4cc5"
      },
      "execution_count": null,
      "outputs": [
        {
          "output_type": "stream",
          "name": "stdout",
          "text": [
            "2\n"
          ]
        }
      ]
    },
    {
      "cell_type": "markdown",
      "source": [
        "**19)** **Write a program to find last character of string.**"
      ],
      "metadata": {
        "id": "KmpNCGlMplAk"
      }
    },
    {
      "cell_type": "code",
      "source": [
        "text = \"Hello World\"\n",
        "last_character=text[-1:]\n",
        "print(last_character)"
      ],
      "metadata": {
        "colab": {
          "base_uri": "https://localhost:8080/"
        },
        "id": "_qyECTQ5p3Jn",
        "outputId": "54cdf3cc-7615-4145-a1ac-c1b1fb5b143e"
      },
      "execution_count": null,
      "outputs": [
        {
          "output_type": "stream",
          "name": "stdout",
          "text": [
            "d\n"
          ]
        }
      ]
    },
    {
      "cell_type": "markdown",
      "source": [
        "**20)** **write a program to find last 10 character of string?**"
      ],
      "metadata": {
        "id": "SAKDTiw2qUWS"
      }
    },
    {
      "cell_type": "code",
      "source": [
        "s = \"Hello world\"\n",
        "print(s[10])\n",
        "print(s[-10])"
      ],
      "metadata": {
        "colab": {
          "base_uri": "https://localhost:8080/"
        },
        "id": "w1w3Fr9RqhkU",
        "outputId": "a5f1bb04-1666-48cd-c6ed-61ac1395358f"
      },
      "execution_count": null,
      "outputs": [
        {
          "output_type": "stream",
          "name": "stdout",
          "text": [
            "d\n",
            "e\n"
          ]
        }
      ]
    },
    {
      "cell_type": "markdown",
      "source": [
        "**21)** **write a program to convert a given string to all uppercase if it contaims at least 2 uppercase characters in the first 4 characters.**"
      ],
      "metadata": {
        "id": "lX45EPpXriTL"
      }
    },
    {
      "cell_type": "code",
      "source": [
        "str = input(\"Enter the String :\")\n",
        "num_upper = 0\n",
        "for letter in str[:4]:\n",
        "\tif letter.upper() == letter:\n",
        "\t\tnum_upper += 1\n",
        "if num_upper >= 2:\n",
        "\tprint(str.upper())\n",
        "print(str)"
      ],
      "metadata": {
        "colab": {
          "base_uri": "https://localhost:8080/"
        },
        "id": "_z9JT1emr7dF",
        "outputId": "c195900f-5aa2-4919-c120-cb0370b8ae36"
      },
      "execution_count": null,
      "outputs": [
        {
          "output_type": "stream",
          "name": "stdout",
          "text": [
            "Enter the String :cOmPuTer\n",
            "COMPUTER\n",
            "cOmPuTer\n"
          ]
        }
      ]
    }
  ]
}